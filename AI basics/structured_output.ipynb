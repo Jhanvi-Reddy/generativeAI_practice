{
 "cells": [
  {
   "cell_type": "code",
   "execution_count": 24,
   "id": "27cd7ce5",
   "metadata": {},
   "outputs": [
    {
     "data": {
      "text/plain": [
       "'from enum import Enum\\nfrom pydantic import BaseModel\\nfrom textwrap import dedent\\nimport json\\nimport os\\nfrom dotenv import load_dotenv\\nfrom openai import AzureOpenAI\\n\\nload_dotenv()\\n\\nend_point = os.getenv(\"AZURE_OPENAI_GPT_4O_ENDPOINT\")\\napi_key = os.getenv(\"AZURE_OPENAI_GPT_4O_API_KEY\")\\napi_version = os.getenv(\"AZURE_OPENAI_GPT_4O_API_VERSION\")\\ndeployment = os.getenv(\"AZURE_OPENAI_GPT_4O_DEPLOYMENT_NAME \")\\n\\n\\nclient = AzureOpenAI(\\n    api_version=api_version,\\n    azure_endpoint=end_point,\\n    api_key= api_key\\n)\\n\\nresponse = client.chat.completions.create(\\n    model = \"gpt-4o\",\\n    messages = [\\n        {\\n            \"role\":\"system\",\\n            \"content\":\"you are an AI assistant who can write headlines about a blog topic\"\\n        },\\n        {\\n            \"role\":\"user\",\\n            \"content\":\"Generative AI in fashion\"\\n        }\\n    ],\\n    response_format={\\n        \"type\":\"json_schema\",\\n        \"json_schema\": {\\n            \"name\":\"generated_titles\",\\n            \"schema\": {\\n                \"type\":\"object\",\\n                \"properties\": {\\n                    \"titles1\": {\"type\":\"string\"},\\n                    \"titles2\":{\"type\":\"string\"},\\n                    \"titles3\":{\"type\":\"string\"}\\n                },\\n                \"required\":[\"titles1\",\"titles2\",\"titles3\"],\\n                \"additionalProperties\": False\\n            },\\n            \"strict\":True\\n        }\\n    }\\n    \\n)\\nresponse.choices[0].message.content'"
      ]
     },
     "execution_count": 24,
     "metadata": {},
     "output_type": "execute_result"
    }
   ],
   "source": [
    "\"\"\"from enum import Enum\n",
    "from pydantic import BaseModel\n",
    "from textwrap import dedent\n",
    "import json\n",
    "import os\n",
    "from dotenv import load_dotenv\n",
    "from openai import AzureOpenAI\n",
    "\n",
    "load_dotenv()\n",
    "\n",
    "end_point = os.getenv(\"AZURE_OPENAI_GPT_4O_ENDPOINT\")\n",
    "api_key = os.getenv(\"AZURE_OPENAI_GPT_4O_API_KEY\")\n",
    "api_version = os.getenv(\"AZURE_OPENAI_GPT_4O_API_VERSION\")\n",
    "deployment = os.getenv(\"AZURE_OPENAI_GPT_4O_DEPLOYMENT_NAME \")\n",
    "\n",
    "\n",
    "client = AzureOpenAI(\n",
    "    api_version=api_version,\n",
    "    azure_endpoint=end_point,\n",
    "    api_key= api_key\n",
    ")\n",
    "\n",
    "response = client.chat.completions.create(\n",
    "    model = \"gpt-4o\",\n",
    "    messages = [\n",
    "        {\n",
    "            \"role\":\"system\",\n",
    "            \"content\":\"you are an AI assistant who can write headlines about a blog topic\"\n",
    "        },\n",
    "        {\n",
    "            \"role\":\"user\",\n",
    "            \"content\":\"Generative AI in fashion\"\n",
    "        }\n",
    "    ],\n",
    "    response_format={\n",
    "        \"type\":\"json_schema\",\n",
    "        \"json_schema\": {\n",
    "            \"name\":\"generated_titles\",\n",
    "            \"schema\": {\n",
    "                \"type\":\"object\",\n",
    "                \"properties\": {\n",
    "                    \"titles1\": {\"type\":\"string\"},\n",
    "                    \"titles2\":{\"type\":\"string\"},\n",
    "                    \"titles3\":{\"type\":\"string\"}\n",
    "                },\n",
    "                \"required\":[\"titles1\",\"titles2\",\"titles3\"],\n",
    "                \"additionalProperties\": False\n",
    "            },\n",
    "            \"strict\":True\n",
    "        }\n",
    "    }\n",
    "    \n",
    ")\n",
    "response.choices[0].message.content\"\"\"\n",
    "\n",
    "\n",
    "\n"
   ]
  },
  {
   "cell_type": "code",
   "execution_count": 25,
   "id": "0a3f1ad6",
   "metadata": {},
   "outputs": [
    {
     "data": {
      "text/plain": [
       "'output = response.choices[0].message.content\\noutput = json.loads(output)\\nprint(json.dumps(output,indent =2))'"
      ]
     },
     "execution_count": 25,
     "metadata": {},
     "output_type": "execute_result"
    }
   ],
   "source": [
    "\"\"\"output = response.choices[0].message.content\n",
    "output = json.loads(output)\n",
    "print(json.dumps(output,indent =2))\"\"\""
   ]
  },
  {
   "cell_type": "code",
   "execution_count": 26,
   "id": "1541c577",
   "metadata": {},
   "outputs": [
    {
     "data": {
      "text/plain": [
       "\"output['titles2']\""
      ]
     },
     "execution_count": 26,
     "metadata": {},
     "output_type": "execute_result"
    }
   ],
   "source": [
    "\"\"\"output['titles2']\"\"\""
   ]
  },
  {
   "cell_type": "code",
   "execution_count": 27,
   "id": "8457b560",
   "metadata": {},
   "outputs": [],
   "source": [
    "#print(json.dumps(json.loads(response.choices[0].message.content),indent = 2))"
   ]
  },
  {
   "cell_type": "code",
   "execution_count": 31,
   "id": "4d8a5cb3",
   "metadata": {},
   "outputs": [],
   "source": [
    "from enum import Enum\n",
    "from pydantic import BaseModel\n",
    "from textwrap import dedent\n",
    "import json\n",
    "import os\n",
    "from dotenv import load_dotenv\n",
    "from openai import AzureOpenAI\n",
    "\n",
    "load_dotenv()\n",
    "\n",
    "end_point = os.getenv(\"AZURE_OPENAI_GPT_4O_ENDPOINT\")\n",
    "api_key = os.getenv(\"AZURE_OPENAI_GPT_4O_API_KEY\")\n",
    "api_version = os.getenv(\"AZURE_OPENAI_GPT_4O_API_VERSION\")\n",
    "deployment = os.getenv(\"AZURE_OPENAI_GPT_4O_DEPLOYMENT_NAME \")\n",
    "\n",
    "\n",
    "client = AzureOpenAI(\n",
    "    api_version=api_version,\n",
    "    azure_endpoint=end_point,\n",
    "    api_key= api_key\n",
    ")"
   ]
  },
  {
   "cell_type": "code",
   "execution_count": 33,
   "id": "24181c9d",
   "metadata": {},
   "outputs": [],
   "source": [
    "math_tutor_prompt = '''\n",
    "You are a helpful math tutor. You will be provided with a math problem,\n",
    "and your goal will be to output a step-by-step solution along with the final answer.\n",
    "For each step, provide an \"explanation\" and an \"output\" (equation).\n",
    "'''\n",
    "\n",
    "response = client.chat.completions.create(\n",
    "        model=\"gpt-4o\",\n",
    "        messages=[\n",
    "            {\"role\": \"system\", \"content\": math_tutor_prompt},\n",
    "            {\"role\": \"user\", \"content\": \"what is 12 + 91* 08/31\"}\n",
    "        ],\n",
    "        response_format={\n",
    "            \"type\": \"json_schema\",\n",
    "            \"json_schema\": {\n",
    "                \"name\": \"math_reasoning\",\n",
    "                \"schema\": {\n",
    "                    \"type\": \"object\",\n",
    "                    \"properties\": {\n",
    "                        \"steps\": {\n",
    "                            \"type\": \"array\",\n",
    "                            \"items\": {\n",
    "                                \"type\": \"object\",\n",
    "                                \"properties\": {\n",
    "                                    \"explanation\": {\"type\": \"string\"},\n",
    "                                    \"output\": {\"type\": \"string\"}\n",
    "                                },\n",
    "                                \"required\": [\"explanation\", \"output\"],\n",
    "                                \"additionalProperties\": False\n",
    "                            }\n",
    "                        },\n",
    "                        \"final_answer\": {\"type\": \"string\"}\n",
    "                    },\n",
    "                    \"required\": [\"steps\", \"final_answer\"],\n",
    "                    \"additionalProperties\": False\n",
    "                },\n",
    "                \"strict\": True\n",
    "            }\n",
    "        }\n",
    "    )\n",
    "    "
   ]
  },
  {
   "cell_type": "code",
   "execution_count": 34,
   "id": "62e1f871",
   "metadata": {},
   "outputs": [
    {
     "name": "stdout",
     "output_type": "stream",
     "text": [
      "{\n",
      "  \"steps\": [\n",
      "    {\n",
      "      \"explanation\": \"Start by evaluating the operation.\",\n",
      "      \"output\": \"12 + 91 * 08/31\"\n",
      "    },\n",
      "    {\n",
      "      \"explanation\": \"Calculate 91 * 08.\",\n",
      "      \"output\": \"12 + 728/31\"\n",
      "    },\n",
      "    {\n",
      "      \"explanation\": \"Perform the division 728/31.\",\n",
      "      \"output\": \"12 + 23.48\"\n",
      "    },\n",
      "    {\n",
      "      \"explanation\": \"Add the results: 12 + 23.48.\",\n",
      "      \"output\": \"35.48\"\n",
      "    }\n",
      "  ],\n",
      "  \"final_answer\": \"35.48\"\n",
      "}\n"
     ]
    }
   ],
   "source": [
    "print(json.dumps(json.loads(response.choices[0].message.content),indent = 2))"
   ]
  }
 ],
 "metadata": {
  "kernelspec": {
   "display_name": "base",
   "language": "python",
   "name": "python3"
  },
  "language_info": {
   "codemirror_mode": {
    "name": "ipython",
    "version": 3
   },
   "file_extension": ".py",
   "mimetype": "text/x-python",
   "name": "python",
   "nbconvert_exporter": "python",
   "pygments_lexer": "ipython3",
   "version": "3.12.7"
  }
 },
 "nbformat": 4,
 "nbformat_minor": 5
}
