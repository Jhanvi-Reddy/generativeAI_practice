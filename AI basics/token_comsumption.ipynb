{
 "cells": [
  {
   "cell_type": "code",
   "execution_count": 1,
   "id": "b8c9945c",
   "metadata": {},
   "outputs": [
    {
     "name": "stdout",
     "output_type": "stream",
     "text": [
      "Original text: 'In a galaxy far, far away, a new hope emerges.'\n",
      "Token integers: [644, 264, 34261, 3117, 11, 3117, 3201, 11, 264, 502, 3987, 59696, 13]\n",
      "Total token count: 13\n"
     ]
    }
   ],
   "source": [
    "import tiktoken\n",
    "\n",
    "# Choose the appropriate encoding for the model you are using\n",
    "# \"cl100k_base\" is the encoding used by models like gpt-4, gpt-4o, and gpt-3.5-turbo\n",
    "encoding = tiktoken.get_encoding(\"cl100k_base\")\n",
    "\n",
    "# Let's count the tokens in a simple piece of text\n",
    "text_to_count = \"In a galaxy far, far away, a new hope emerges.\"\n",
    "token_integers = encoding.encode(text_to_count)\n",
    "token_count = len(token_integers)\n",
    "\n",
    "print(f\"Original text: '{text_to_count}'\")\n",
    "print(f\"Token integers: {token_integers}\")\n",
    "print(f\"Total token count: {token_count}\")\n"
   ]
  }
 ],
 "metadata": {
  "kernelspec": {
   "display_name": "base",
   "language": "python",
   "name": "python3"
  },
  "language_info": {
   "codemirror_mode": {
    "name": "ipython",
    "version": 3
   },
   "file_extension": ".py",
   "mimetype": "text/x-python",
   "name": "python",
   "nbconvert_exporter": "python",
   "pygments_lexer": "ipython3",
   "version": "3.12.7"
  }
 },
 "nbformat": 4,
 "nbformat_minor": 5
}
