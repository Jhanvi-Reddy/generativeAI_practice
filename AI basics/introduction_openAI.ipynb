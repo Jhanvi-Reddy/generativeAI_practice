{
 "cells": [
  {
   "cell_type": "code",
   "execution_count": 42,
   "id": "faaf2197",
   "metadata": {},
   "outputs": [
    {
     "name": "stdout",
     "output_type": "stream",
     "text": [
      "Requirement already satisfied: python-dotenv in c:\\users\\jhanvi\\anaconda3\\lib\\site-packages (0.21.0)\n",
      "Note: you may need to restart the kernel to use updated packages.\n"
     ]
    }
   ],
   "source": [
    "pip install python-dotenv"
   ]
  },
  {
   "cell_type": "code",
   "execution_count": 43,
   "id": "b31442c5",
   "metadata": {},
   "outputs": [
    {
     "name": "stdout",
     "output_type": "stream",
     "text": [
      "environtment variable deployed successfully\n"
     ]
    }
   ],
   "source": [
    "import os\n",
    "from dotenv import load_dotenv\n",
    "\n",
    "load_dotenv()\n",
    "\n",
    "end_point = os.getenv(\"AZURE_OPENAI_GPT_4O_ENDPOINT\")\n",
    "api_key = os.getenv(\"AZURE_OPENAI_GPT_4O_API_KEY\")\n",
    "api_version = os.getenv(\"AZURE_OPENAI_GPT_4O_API_VERSION\")\n",
    "deployment = os.getenv(\"AZURE_OPENAI_GPT_4O_DEPLOYMENT_NAME \")\n",
    "\n",
    "print(\"environtment variable deployed successfully\")"
   ]
  },
  {
   "cell_type": "code",
   "execution_count": 44,
   "id": "6eb0dd83",
   "metadata": {},
   "outputs": [
    {
     "name": "stdout",
     "output_type": "stream",
     "text": [
      "Requirement already satisfied: openai in c:\\users\\jhanvi\\anaconda3\\lib\\site-packages (1.101.0)\n",
      "Requirement already satisfied: anyio<5,>=3.5.0 in c:\\users\\jhanvi\\appdata\\roaming\\python\\python312\\site-packages (from openai) (4.4.0)\n",
      "Requirement already satisfied: distro<2,>=1.7.0 in c:\\users\\jhanvi\\anaconda3\\lib\\site-packages (from openai) (1.9.0)\n",
      "Requirement already satisfied: httpx<1,>=0.23.0 in c:\\users\\jhanvi\\appdata\\roaming\\python\\python312\\site-packages (from openai) (0.27.0)\n",
      "Requirement already satisfied: jiter<1,>=0.4.0 in c:\\users\\jhanvi\\anaconda3\\lib\\site-packages (from openai) (0.10.0)\n",
      "Requirement already satisfied: pydantic<3,>=1.9.0 in c:\\users\\jhanvi\\anaconda3\\lib\\site-packages (from openai) (2.8.2)\n",
      "Requirement already satisfied: sniffio in c:\\users\\jhanvi\\appdata\\roaming\\python\\python312\\site-packages (from openai) (1.3.1)\n",
      "Requirement already satisfied: tqdm>4 in c:\\users\\jhanvi\\anaconda3\\lib\\site-packages (from openai) (4.66.5)\n",
      "Requirement already satisfied: typing-extensions<5,>=4.11 in c:\\users\\jhanvi\\appdata\\roaming\\python\\python312\\site-packages (from openai) (4.12.2)\n",
      "Requirement already satisfied: idna>=2.8 in c:\\users\\jhanvi\\appdata\\roaming\\python\\python312\\site-packages (from anyio<5,>=3.5.0->openai) (3.7)\n",
      "Requirement already satisfied: certifi in c:\\users\\jhanvi\\appdata\\roaming\\python\\python312\\site-packages (from httpx<1,>=0.23.0->openai) (2024.7.4)\n",
      "Requirement already satisfied: httpcore==1.* in c:\\users\\jhanvi\\appdata\\roaming\\python\\python312\\site-packages (from httpx<1,>=0.23.0->openai) (1.0.5)\n",
      "Requirement already satisfied: h11<0.15,>=0.13 in c:\\users\\jhanvi\\appdata\\roaming\\python\\python312\\site-packages (from httpcore==1.*->httpx<1,>=0.23.0->openai) (0.14.0)\n",
      "Requirement already satisfied: annotated-types>=0.4.0 in c:\\users\\jhanvi\\anaconda3\\lib\\site-packages (from pydantic<3,>=1.9.0->openai) (0.6.0)\n",
      "Requirement already satisfied: pydantic-core==2.20.1 in c:\\users\\jhanvi\\anaconda3\\lib\\site-packages (from pydantic<3,>=1.9.0->openai) (2.20.1)\n",
      "Requirement already satisfied: colorama in c:\\users\\jhanvi\\appdata\\roaming\\python\\python312\\site-packages (from tqdm>4->openai) (0.4.6)\n",
      "Note: you may need to restart the kernel to use updated packages.\n"
     ]
    }
   ],
   "source": [
    "pip install openai"
   ]
  },
  {
   "cell_type": "code",
   "execution_count": 45,
   "id": "118c9878",
   "metadata": {},
   "outputs": [
    {
     "name": "stdout",
     "output_type": "stream",
     "text": [
      "True\n"
     ]
    }
   ],
   "source": [
    "from openai import AzureOpenAI\n",
    "client = AzureOpenAI(\n",
    "    api_version=api_version,\n",
    "    azure_endpoint=end_point,\n",
    "    api_key= api_key\n",
    ")\n",
    "\n",
    "print(\"True\")"
   ]
  },
  {
   "cell_type": "code",
   "execution_count": 47,
   "id": "d7f62757",
   "metadata": {},
   "outputs": [
    {
     "name": "stdout",
     "output_type": "stream",
     "text": [
      "Biryani is a highly flavorful and aromatic dish that comes in many regional variations, each with slightly different ingredients based on local preferences. However, some common ingredients are typically used regardless of the style of biryani. Here's a general list of the main ingredients:\n",
      "\n",
      "### Base Ingredients:\n",
      "1. **Basmati Rice**: Long-grain basmati rice is traditionally used for its fragrant aroma and texture.\n",
      "2. **Meat or Protein**: Common options include chicken, lamb, mutton, goat, beef, fish, or shrimp. For vegetarian biryani, paneer (Indian cottage cheese) or vegetables like potatoes, carrots, peas, and cauliflower are used.\n",
      "\n",
      "### Marinade/Seasoning Ingredients:\n",
      "3. **Yogurt (Curd)**: Used to marinate the meat along with spices, making it tender and flavorful.\n",
      "4. **Onions**: Thinly sliced and fried until golden brown (called \"birista\") for garnishing and flavor.\n",
      "5. **Ginger-Garlic Paste**: A classic base ingredient for marinating and cooking.\n",
      "6. **Fresh Herbs**: Coriander (cilantro) leaves and mint leaves add freshness.\n",
      "\n",
      "### Spices:\n",
      "7. **Whole Spices**: Common whole spices include bay leaves, cinnamon sticks, cardamom pods, cloves, star anise, black peppercorns, cumin seeds, and mace.\n",
      "8. **Ground Spices**: Turmeric, red chili powder, cumin powder, coriander powder, and garam masala.\n",
      "9. **Saffron (Optional)**: Soaked in warm milk to add a luxurious flavor, aroma, and color.\n",
      "10. **Biryani Masala (Optional)**: A pre-made spice blend specifically for biryani.\n",
      "\n",
      "### Cooking Ingredients:\n",
      "11. **Ghee or Oil**: Clarified butter (ghee) or vegetable oil is used for cooking and layering.\n",
      "12. **Tomatoes (Optional)**: Some versions include chopped tomatoes for added flavor and texture.\n",
      "\n",
      "### Liquid Ingredients:\n",
      "13. **Water, Stock, or Broth**: Boiling liquid to cook the rice.\n",
      "14. **Kewra Water or Rose Water (Optional)**: Adds a floral aroma to the dish.\n",
      "\n",
      "### Garnishes:\n",
      "15. **Fried Onions**: Sprinkled on top for additional flavor and crunch.\n",
      "16. **Nuts (Optional)**: Cashews or almonds can be added for texture.\n",
      "17. **Raisins (Optional)**: Adds a hint of sweetness to the biryani.\n",
      "18. **Boiled Eggs (Optional)**: Some biryanis include hard-boiled eggs for garnish.\n",
      "\n",
      "### Assembly:\n",
      "Biryani is typically made by assembling layers of partially cooked rice and marinated meat or vegetables, with herbs, fried onions, and spices layered in between. The dish is then cooked on low flame using the \"dum\" method, where it's covered tightly to trap steam and let the flavors meld together.\n",
      "\n",
      "Remember, the exact recipe may vary depending on the type of biryani (Hyderabadi, Lucknowi, Kolkata, Malabar, etc.) and personal preferences!\n"
     ]
    }
   ],
   "source": [
    "response = client.chat.completions.create(\n",
    "    messages = [\n",
    "        {\"role\":\"system\",\"content\":\"You are a helpfull assistant\"},\n",
    "        {\"role\":\"user\",\"content\":\"What is ingredients added in the biryani.\"},\n",
    "    ],\n",
    "    max_tokens=4096,\n",
    "    temperature = 1.0,\n",
    "    model = \"gpt-4o\",\n",
    ")\n",
    "\n",
    "print(response.choices[0].message.content)"
   ]
  },
  {
   "cell_type": "markdown",
   "id": "c3144953",
   "metadata": {},
   "source": [
    "###Stream\n",
    "when it set to true means the reponses will be displayed one by one.\n",
    "\n",
    "->1. for update in response:\n",
    "Iterates through chunks of the streaming response\n",
    "\n",
    "Each update is a partial response object containing a piece of the complete answer\n",
    "\n",
    "The API sends multiple updates until the complete response is delivered\n",
    "\n",
    "2. if update.choices:\n",
    "Checks if the update contains valid data\n",
    "\n",
    "update.choices is a list that might be empty in some cases\n",
    "\n",
    "This prevents errors when trying to access non-existent data\n",
    "\n",
    "3. update.choices[0].delta.content\n",
    "Extracts the content from the response chunk:\n",
    "\n",
    "update.choices[0] - Gets the first choice (usually the only one)\n",
    "\n",
    ".delta - Contains the incremental change from the previous chunk\n",
    "\n",
    ".content - The actual text content of this chunk\n",
    "\n",
    "4. or \"\"\n",
    "Safe handling of None values\n",
    "\n",
    "If .content is None (which can happen), it defaults to an empty string \"\"\n",
    "\n",
    "Prevents None from being printed, which would cause errors\n",
    "\n",
    "5. end=\"\"\n",
    "Prevents line breaks between chunks\n",
    "\n",
    "By default, Python's print() adds a newline after each call\n",
    "\n",
    "end=\"\" ensures all chunks are printed on the same line continuously\n",
    "\n",
    "6. client.close()\n",
    "Closes the HTTP connection to the OpenAI API\n",
    "\n",
    "Releases resources and properly terminates the connection"
   ]
  },
  {
   "cell_type": "code",
   "execution_count": null,
   "id": "1cf52e23",
   "metadata": {},
   "outputs": [
    {
     "name": "stdout",
     "output_type": "stream",
     "text": [
      "The exact origins of **biryani** are somewhat debated, but it is widely believed to have originated in the **Indian subcontinent** with strong influences from **Persian** and **Central Asian** cuisines. Its name is derived from the Persian word \"birian,\" which means \"fried before cooking\" or \"roasted.\" The dish likely traveled to India with Persian or Turkic rulers, traders, or migrants, especially during the time of the **Delhi Sultanate** (13th–16th century) or the **Mughal Empire** (16th–19th century).\n",
      "\n",
      "### Origin Theories:\n",
      "1. **Persian Influence**:  \n",
      "   Biryani is thought to have evolved from the Persian dish **\"Pilaf\" (or Pulao),\"** a dish that involved cooking rice and meat together with spices. The Mughals likely brought this dish to the Indian subcontinent, where it was adapted to local tastes and ingredients, eventually giving rise to biryani.\n",
      "\n",
      "2. **South India Connection**:  \n",
      "   Some historians suggest that biryani was first introduced in South India during the rule of the Mughal emperor Aurangzeb, who appointed governors in the region. A specific type of biryani called **\"Thalassery biryani\"** is thought to have originated in Kerala under the influence of Arab traders.\n",
      "\n",
      "3. **Royal Origins**:  \n",
      "   Another popular theory says biryani was created in the kitchens of the Mughals as a royal dish. It became a favorite in the courts of Mughal emperors, particularly Emperor Shah Jahan and his wife Mumtaz Mahal. There is a story that Mumtaz Mahal ordered a nutritious dish to be made for soldiers, reportedly leading to the creation of biryani. \n",
      "\n",
      "4. **Regional Variations Through Time**:  \n",
      "   As biryani spread across India, regional cooks incorporated their own spices, ingredients, and cooking styles, leading to the diversity of biryani types we see today (e.g., Hyderabadi, Lucknowi, Kolkata, Sindhi, and Malabar biryani).\n",
      "\n",
      "### Conclusion:  \n",
      "While biryani has roots in **Persian and Central Asian cuisine**, it developed its distinctive flavors, styles, and variations in **India**. Today, it is considered an iconic Indian dish loved worldwide with regional tweaks and adaptations."
     ]
    }
   ],
   "source": [
    "response = client.chat.completions.create(\n",
    "    stream = True,\n",
    "    messages = [\n",
    "        \n",
    "        {\"role\":\"system\",\"content\":\"You are a helpfull assistant\"},\n",
    "        {\"role\":\"user\",\"content\":\"What is ingredients added in the biryani.\"},\n",
    "        {\"role\":\"assistant\",\"content\":\"Biryani is a flavorful and aromatic rice dish made with various ingredients, spices, and layers. The exact ingredients can vary depending on the type of biryani (e.g., Hyderabadi, Lucknowi, Kolkata, Kerala, veg, or non-veg), regional variations, and personal preferences. Below is a general list of ingredients commonly used in making biryani:\"},\n",
    "        {\"role\":\"user\", \"content\":\"Where was biriyani first originated\"},\n",
    "    ],\n",
    "    max_tokens=4096,\n",
    "    temperature = 1.0,\n",
    "    model = \"gpt-4o\",\n",
    ")\n",
    "\n",
    "for update in response:\n",
    "    if update.choices:\n",
    "        print(update.choices[0].delta.content or \"\", end = \"\")\n",
    "        \n",
    "client.close()"
   ]
  }
 ],
 "metadata": {
  "kernelspec": {
   "display_name": "base",
   "language": "python",
   "name": "python3"
  },
  "language_info": {
   "codemirror_mode": {
    "name": "ipython",
    "version": 3
   },
   "file_extension": ".py",
   "mimetype": "text/x-python",
   "name": "python",
   "nbconvert_exporter": "python",
   "pygments_lexer": "ipython3",
   "version": "3.12.7"
  }
 },
 "nbformat": 4,
 "nbformat_minor": 5
}
