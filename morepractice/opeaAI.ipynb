{
 "cells": [
  {
   "cell_type": "code",
   "execution_count": null,
   "id": "11157c38",
   "metadata": {},
   "outputs": [],
   "source": [
    "import os\n",
    "from dotenv import load_dotenv\n",
    "\n",
    "load_dotenv()\n",
    "\n",
    "end_point = os.getenv(\"AZURE_OPENAI_GPT_4O_ENDPOINT\")\n",
    "api_key = os.getenv(\"AZURE_OPENAI_GPT_4O_API_KEY\")\n",
    "api_version = os.getenv(\"AZURE_OPENAI_GPT_4O_API_VERSION\")\n",
    "deployment = os.getenv(\"AZURE_OPENAI_GPT_4O_DEPLOYMENT_NAME\")\n"
   ]
  },
  {
   "cell_type": "code",
   "execution_count": 52,
   "id": "5fe4b2cc",
   "metadata": {},
   "outputs": [],
   "source": [
    "from openai import AzureOpenAI\n",
    "client = AzureOpenAI(\n",
    "    api_version=api_version,\n",
    "    azure_endpoint=end_point,\n",
    "    api_key= api_key\n",
    ")\n"
   ]
  },
  {
   "cell_type": "code",
   "execution_count": 53,
   "id": "3ac1e4c0",
   "metadata": {},
   "outputs": [
    {
     "name": "stdout",
     "output_type": "stream",
     "text": [
      "THE LOS ANGELES DODGERS WON THE WORLD SERIES IN 2020! THEY DEFEATED THE TAMPA BAY RAYS IN SIX GAMES TO CLAIM THE TITLE!\n"
     ]
    }
   ],
   "source": [
    "response = client.chat.completions.create(\n",
    "    messages = [\n",
    "        {\"role\":\"system\",\"content\":\"You are a helpful assisstant.\"},\n",
    "        {\"role\":\"user\",\"content\":\"who won the world series in 2020\"},\n",
    "        {\"role\":\"assistant\",\"content\":\"THE LOS ANGELES DODGERS WON THE WORLD SERIES IN 2020! THEY DEFEATED THE TAMPA BAY RAYS IN SIX GAMES \"},\n",
    "        {\"role\":\"user\",\"content\":\"say it again , but all in caps\"}\n",
    "    ],\n",
    "    max_tokens=50,\n",
    "    temperature = 0.99,\n",
    "    model = \"gpt-4o\",\n",
    ")\n",
    "\n",
    "print(response.choices[0].message.content)"
   ]
  },
  {
   "cell_type": "code",
   "execution_count": 54,
   "id": "602c247b",
   "metadata": {},
   "outputs": [],
   "source": [
    "conversations = [\n",
    "    {\n",
    "        \"role\":\"system\",\n",
    "        \"content\":\"\"\"   \n",
    "                  You are an AI assistant who needs to answer user's\n",
    "                  question using provided relevant content.\n",
    "                \"\"\" \n",
    "    }\n",
    "]\n",
    "\n",
    "def invoke_llm(user_input):\n",
    "    msg = {\n",
    "        \"role\":\"user\",\n",
    "        \"content\":f\"user's question :{user_input}\"\n",
    "    }\n",
    "    \n",
    "    conversations.append(msg)\n",
    "    chat_completion = client.chat.completions.create(\n",
    "                       messages = conversations,\n",
    "                       max_tokens=50,\n",
    "                       temperature = 0.7,\n",
    "                       model = \"gpt-4o\",\n",
    "                      )\n",
    "    \n",
    "    llm_output = chat_completion.choices[0].message.content\n",
    "    \n",
    "    conversations.append({\n",
    "        \"role\":\"assistant\",\n",
    "        \"content\":llm_output\n",
    "    })\n",
    "    \n",
    "    print(llm_output)"
   ]
  },
  {
   "cell_type": "code",
   "execution_count": 56,
   "id": "175c92c2",
   "metadata": {},
   "outputs": [
    {
     "name": "stdout",
     "output_type": "stream",
     "text": [
      "The Indian Premier League (IPL) started in **2008**. The first season commenced on **April 18, 2008**.\n"
     ]
    }
   ],
   "source": [
    "invoke_llm(user_input=\"When did ipl start\")"
   ]
  },
  {
   "cell_type": "code",
   "execution_count": 57,
   "id": "f8203dfc",
   "metadata": {},
   "outputs": [
    {
     "name": "stdout",
     "output_type": "stream",
     "text": [
      "Based on the provided content, there is no specific information about which was the first IPL team to be formed in 2008. However, all eight founding teams of the IPL were announced together in 2008. If you have additional details or need\n"
     ]
    }
   ],
   "source": [
    "invoke_llm(user_input=\"Which was the fisrt team of ipl to be formed in 2008\")"
   ]
  },
  {
   "cell_type": "code",
   "execution_count": 58,
   "id": "e0d534ce",
   "metadata": {},
   "outputs": [
    {
     "name": "stdout",
     "output_type": "stream",
     "text": [
      "In the year of two thousand and eight,  \n",
      "A league was born, a twist of fate.  \n",
      "Eight teams announced, side by side,  \n",
      "Together they formed IPL's pride.  \n",
      "\n",
      "The first to form? It's hard to say,  \n",
      "As\n"
     ]
    }
   ],
   "source": [
    "invoke_llm(user_input=\"say this again in form of poem\")"
   ]
  },
  {
   "cell_type": "code",
   "execution_count": 59,
   "id": "5e7111d7",
   "metadata": {},
   "outputs": [
    {
     "name": "stdout",
     "output_type": "stream",
     "text": [
      "Your original question was: **\"In which year did RCB win the match\"**.\n"
     ]
    }
   ],
   "source": [
    "invoke_llm(user_input=\"What was my original quetion\")"
   ]
  },
  {
   "cell_type": "code",
   "execution_count": 60,
   "id": "29fd3201",
   "metadata": {},
   "outputs": [
    {
     "name": "stdout",
     "output_type": "stream",
     "text": [
      "{'role': 'system', 'content': \"   \\n                  You are an AI assistant who needs to answer user's\\n                  question using provided relevant content.\\n                \"}\n",
      "{'role': 'user', 'content': \"user's question :In which year did RCB win the match\"}\n",
      "{'role': 'assistant', 'content': 'Based on the provided content, there is no information indicating the year in which RCB (Royal Challengers Bangalore) won a match. Could you provide more context or clarify your question?'}\n",
      "{'role': 'user', 'content': \"user's question :When did ipl start\"}\n",
      "{'role': 'assistant', 'content': 'The Indian Premier League (IPL) started in **2008**. The first season commenced on **April 18, 2008**.'}\n",
      "{'role': 'user', 'content': \"user's question :Which was the fisrt team of ipl to be formed in 2008\"}\n",
      "{'role': 'assistant', 'content': 'Based on the provided content, there is no specific information about which was the first IPL team to be formed in 2008. However, all eight founding teams of the IPL were announced together in 2008. If you have additional details or need'}\n",
      "{'role': 'user', 'content': \"user's question :say this again in form of poem\"}\n",
      "{'role': 'assistant', 'content': \"In the year of two thousand and eight,  \\nA league was born, a twist of fate.  \\nEight teams announced, side by side,  \\nTogether they formed IPL's pride.  \\n\\nThe first to form? It's hard to say,  \\nAs\"}\n",
      "{'role': 'user', 'content': \"user's question :What was my original quetion\"}\n",
      "{'role': 'assistant', 'content': 'Your original question was: **\"In which year did RCB win the match\"**.'}\n"
     ]
    }
   ],
   "source": [
    "for i in conversations:\n",
    "    print(i)"
   ]
  },
  {
   "cell_type": "code",
   "execution_count": 66,
   "id": "f00c1fac",
   "metadata": {},
   "outputs": [
    {
     "data": {
      "text/plain": [
       "'GTA 6 is releasing in 2025.'"
      ]
     },
     "execution_count": 66,
     "metadata": {},
     "output_type": "execute_result"
    }
   ],
   "source": [
    "conversations = [\n",
    "    {\n",
    "        \"role\":\"system\",\n",
    "        \"content\":\"\"\"   \n",
    "                  You are an AI assistant who needs to answer user's\n",
    "                  question using provided relevant content.\n",
    "                \"\"\" \n",
    "    }\n",
    "]\n",
    "\n",
    "def invoke_llm(content,user_input):\n",
    "    msg = {\n",
    "        \"role\":\"user\",\n",
    "        \"content\":f\"relavant content: {content} user's question :{user_input}\"\n",
    "    }\n",
    "    \n",
    "    conversations.append(msg)\n",
    "    chat_completion = client.chat.completions.create(\n",
    "                       messages = conversations,\n",
    "                       max_tokens=200,\n",
    "                       temperature = 0.9,\n",
    "                       model = \"gpt-4o\",\n",
    "                      )\n",
    "    \n",
    "    llm_output = chat_completion.choices[0].message.content\n",
    "    \n",
    "    conversations.append({\n",
    "        \"role\":\"assistant\",\n",
    "        \"content\":llm_output\n",
    "    })\n",
    "    \n",
    "    return llm_output\n",
    "\n",
    "invoke_llm(\n",
    "    content = \"\"\" \n",
    "            rockstar has released thre trailer of gta 6 in 2024 and has announced that the game will out in 2025 \n",
    "    \"\"\",\n",
    "    user_input=\"in which year is gta 6 releasing\"\n",
    ")"
   ]
  }
 ],
 "metadata": {
  "kernelspec": {
   "display_name": "base",
   "language": "python",
   "name": "python3"
  },
  "language_info": {
   "codemirror_mode": {
    "name": "ipython",
    "version": 3
   },
   "file_extension": ".py",
   "mimetype": "text/x-python",
   "name": "python",
   "nbconvert_exporter": "python",
   "pygments_lexer": "ipython3",
   "version": "3.12.7"
  }
 },
 "nbformat": 4,
 "nbformat_minor": 5
}
