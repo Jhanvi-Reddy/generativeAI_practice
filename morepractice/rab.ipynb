{
 "cells": [
  {
   "cell_type": "code",
   "execution_count": 4,
   "id": "e4e3220f",
   "metadata": {},
   "outputs": [
    {
     "name": "stdout",
     "output_type": "stream",
     "text": [
      "Large learning models, also known as Large Language Models (LLMs), are advanced machine learning systems designed to process and generate human-like text. They are typically based on deep learning architectures, particularly transformer architectures, and are trained on massive amounts of textual data. These models have revolutionized natural language processing (NLP) by achieving state-of-the-art performance on a variety of language-based tasks.\n",
      "\n",
      "### Key Characteristics of Large Learning Models\n",
      "\n",
      "#### 1. **Scale**:\n",
      "   - Large learning models are characterized by their size, in terms of both the number of parameters (millions to hundreds of billions) and the scale of the data used for training.\n",
      "   - The size of the model allows it to capture nuanced patterns and complex relationships in language.\n",
      "\n",
      "#### 2. **Transformer Architecture**:\n",
      "   - Most large learning models are built on the transformer architecture, which was introduced in the paper \"Attention Is All You Need\" (Vaswani et al., 2017).\n",
      "   - This architecture uses self-attention mechanisms to focus on relevant parts of the input and handle long-range dependencies effectively.\n",
      "\n",
      "#### 3. **Pretraining and Fine-tuning**:\n",
      "   - **Pretraining** involves training the model on large, diverse datasets in an unsupervised or self-super\n"
     ]
    }
   ],
   "source": [
    "import os\n",
    "from dotenv import load_dotenv\n",
    "from openai import AzureOpenAI\n",
    "load_dotenv()\n",
    "\n",
    "end_point = os.getenv(\"AZURE_OPENAI_GPT_4O_ENDPOINT\")\n",
    "api_key = os.getenv(\"AZURE_OPENAI_GPT_4O_API_KEY\")\n",
    "api_version = os.getenv(\"AZURE_OPENAI_GPT_4O_API_VERSION\")\n",
    "deployment = os.getenv(\"AZURE_OPENAI_GPT_4O_DEPLOYMENT_NAME\")\n",
    "\n",
    "\n",
    "llm_client = AzureOpenAI(\n",
    "    api_version=api_version,\n",
    "    azure_endpoint=end_point,\n",
    "    api_key= api_key\n",
    ")\n",
    "\n",
    "response = llm_client.chat.completions.create(\n",
    "    messages = [\n",
    "        {\"role\":\"system\",\"content\":\"You are a AI assisstant.\"},\n",
    "        {\"role\":\"user\",\"content\":\"Tell me about large learning models\"},   \n",
    "    ],\n",
    "    max_tokens=256,\n",
    "    temperature = 0.99,\n",
    "    model = \"gpt-4o\",\n",
    ")\n",
    "\n",
    "print(response.choices[0].message.content)"
   ]
  },
  {
   "cell_type": "code",
   "execution_count": 5,
   "id": "4f64cbd5",
   "metadata": {},
   "outputs": [
    {
     "data": {
      "text/plain": [
       "'green business | l&t sustainability sustainability our approach materiality planet energy & emissions water circular economy biodiversity innovation green business climate strategy people csr - health csr - skill building csr - education jyoti csr - water & sanitation health & safety volunteering prayas trust governance green    business sustainability planet green business l&t offers a bouquet of sustainable solutions which helps its customers go green. these solutions, covered under our green business, are enabled through advanced technology, and centred around clean energy, clean mobility, water and sanitation, green infra and other areas linked to a green future. with our green businesses, we help our customers to lower carbon emissions, improve water use and recycling, enhance energy efficiency, reduce air pollution, and promote resource conservation. overall, we help preserve the environment as well as improve public well-being. climate | l&t sustainability sustainability our approach materiality planet energy & emissions water circular economy biodiversity innovation green business climate strategy people csr - health csr - skill building csr - education jyoti csr - water & sanitation health & safety volunteering prayas trust governance climate    strategy sustainability planet climate strategy l&t has committed to achieve carbon neutrality by 2040 and water neutrality by 2035. the companyâ\\x80\\x99s carbon footprint (scope 1+2) is primarily due to diesel and electricity consumption. diesel has a high share in the overall energy consumption (>75%), while electricity comprises ~16%. based on the current projections, ghg emissions are expected to peak around fy 2025-26 and decline thereafter. our strategy towards achieving carbon neutrality is based on two levers: energy efficiency decarbonising energy consumption l&t sustainability | planet: energy, emissions, water, and green business initiatives sustainability our approach materiality planet energy & emissions water circular economy biodiversity innovation green business climate strategy people csr - health csr - skill building csr - education jyoti csr - water & sanitation health & safety volunteering prayas trust governance your browser does not support the video tag. nurturing    the planet   mangrove plantations in hazira rejuvenate the gujarat coastline. see how we did itâ\\x80¦ read more sustainability planet highlights of fy 2024 - 25 energy energy consumption intensity electricity from renewables emissions ghg emission intensity water water consumption intensity materials recycled and eco-friendly material used green business revenue from green business biodiversity saplings planted energy and emissions'"
      ]
     },
     "execution_count": 5,
     "metadata": {},
     "output_type": "execute_result"
    }
   ],
   "source": [
    "from sentence_transformers import SentenceTransformer, CrossEncoder\n",
    "import chromadb\n",
    "\n",
    "# Load embedding and cross-encoder models\n",
    "embedding_model = SentenceTransformer('sentence-transformers/all-MiniLM-L6-v2')\n",
    "cross_encoder = CrossEncoder('cross-encoder/ms-marco-MiniLM-L-6-v2')\n",
    "\n",
    "# Initialize ChromaDB client\n",
    "client = chromadb.PersistentClient(path=\"knowledge_base\")\n",
    "collection = client.get_or_create_collection(name=\"GENAI_collection\")\n",
    "\n",
    "def fetch_top_relevant_queries(query, collection, top_k=10):\n",
    "    query_embedding = embedding_model.encode(query).tolist()\n",
    "    results = collection.query(query_embeddings=[query_embedding], n_results=top_k)\n",
    "    return results['documents'][0], results['metadatas'][0], results['distances'][0]\n",
    "\n",
    "def retrieve_relevant_content(query):\n",
    "    documents, metadata, scores = fetch_top_relevant_queries(query, collection, top_k=10)\n",
    "    # Compute cross-encoder scores\n",
    "    scored_queries = []\n",
    "    for doc, meta, score in zip(documents, metadata, scores):\n",
    "        doc_text = doc.replace(\"\\n\", \" \")\n",
    "        cross_score = cross_encoder.predict([(query, doc_text)])[0]\n",
    "        scored_queries.append({\"document\": doc_text, \"metadata\": meta, \"similarity_score\": score, \"cross_encoder_score\": cross_score})\n",
    "\n",
    "    # Sort by cross-encoder score and take top 3\n",
    "    top_docs = sorted(scored_queries, key=lambda x: x['cross_encoder_score'], reverse=True)[:3]\n",
    "\n",
    "    # Combine top 3 documents into a single paragraph\n",
    "    combined_text = \" \".join([item['document'] for item in top_docs])\n",
    "\n",
    "    return combined_text\n",
    "\n",
    "\n",
    "retrieve_relevant_content(\"What is l and t doing for sustainability of environemtn?\")"
   ]
  },
  {
   "cell_type": "code",
   "execution_count": 6,
   "id": "e244fe8b",
   "metadata": {},
   "outputs": [
    {
     "name": "stdout",
     "output_type": "stream",
     "text": [
      "As of my knowledge cutoff in October 2023, the Chairman of Larsen & Toubro (L&T) is **A.M. Naik** (Anil Manibhai Naik). He has long been associated with the company and is a prominent industrial leader in India. If you're seeking the most current information, I recommend checking L&T's official website or their latest corporate announcements for updates.\n"
     ]
    }
   ],
   "source": [
    "def enhance_prompt(query):\n",
    "    \"\"\"Enhances the user query to improve retrieval accuracy.\"\"\"\n",
    "    chat_completion = llm_client.chat.completions.create(\n",
    "        messages=[\n",
    "            {\"role\": \"system\", \"content\": \"You are an AI assistant for L&T group. Your task is to refine user queries for better information retrieval. Make the query clearer, more specific, and structured to help retrieve relevant documents accurately.\"},\n",
    "            {\"role\": \"user\", \"content\": f\"Enhance this query for better retrieval: {query}\"}\n",
    "        ],\n",
    "        model=\"gpt-4o\",\n",
    "        max_tokens=50\n",
    "    )\n",
    "    return chat_completion.choices[0].message.content.strip()\n",
    "\n",
    "def enhanced_llm_call(user_query):\n",
    "    \"\"\"Enhances query, retrieves relevant content, and gets final response.\"\"\"\n",
    "    \n",
    "    # Step 1: Enhance the query for better retrieval\n",
    "    refined_query = enhance_prompt(user_query)\n",
    "\n",
    "    # Step 2: Retrieve relevant content using the enhanced query\n",
    "    relevant_content = retrieve_relevant_content(refined_query)\n",
    "\n",
    "    # Step 3: Send both the retrieved content and the original user question to LLM\n",
    "    chat_completion = llm_client.chat.completions.create(\n",
    "        messages=[\n",
    "            {\"role\": \"system\", \"content\": \"You are an AI assistant. Answer the user's question using the given context.\"},\n",
    "            {\"role\": \"user\", \"content\": f\"Context:\\n{relevant_content}\\n\\nUser Question: {user_query}\"}\n",
    "        ],\n",
    "        model=\"gpt-4o\",\n",
    "        max_tokens=512\n",
    "    )\n",
    "\n",
    "    return chat_completion.choices[0].message.content\n",
    "\n",
    "# Example Usage\n",
    "user_query = \"Who is your chairman\"\n",
    "final_output = enhanced_llm_call(user_query)\n",
    "print(final_output)"
   ]
  }
 ],
 "metadata": {
  "kernelspec": {
   "display_name": "base",
   "language": "python",
   "name": "python3"
  },
  "language_info": {
   "codemirror_mode": {
    "name": "ipython",
    "version": 3
   },
   "file_extension": ".py",
   "mimetype": "text/x-python",
   "name": "python",
   "nbconvert_exporter": "python",
   "pygments_lexer": "ipython3",
   "version": "3.12.7"
  }
 },
 "nbformat": 4,
 "nbformat_minor": 5
}
